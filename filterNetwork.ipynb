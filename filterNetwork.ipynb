{
 "cells": [
  {
   "cell_type": "code",
   "execution_count": null,
   "metadata": {},
   "outputs": [],
   "source": [
    "import xnetwork as xnet\n",
    "import igraph"
   ]
  },
  {
   "cell_type": "code",
   "execution_count": null,
   "metadata": {},
   "outputs": [],
   "source": [
    "net = xnet.xnet2igraph('./net_bible_infomap.xnet')\n",
    "net_2 = net.vs.select(ClusterIndex_ne=0.0)\n",
    "net.delete_vertices(net_2)\n",
    "xnet.igraph2xnet(net, 'net_bible_A.xnet')"
   ]
  }
 ],
 "metadata": {
  "language_info": {
   "name": "python"
  }
 },
 "nbformat": 4,
 "nbformat_minor": 2
}
