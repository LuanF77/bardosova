{
 "cells": [
  {
   "cell_type": "code",
   "execution_count": null,
   "metadata": {},
   "outputs": [],
   "source": [
    "from math import ceil\n",
    "from tqdm import tqdm\n",
    "import requests as rq\n",
    "import pandas as pd\n",
    "import json\n",
    "import xnetwork as xnet\n",
    "import igraph"
   ]
  },
  {
   "cell_type": "code",
   "execution_count": null,
   "metadata": {},
   "outputs": [],
   "source": [
    "url_cursor = 'https://api.openalex.org/works?per-page=200&filter=title_and_abstract.search:\"electronic tongue\"&cursor=*'\n",
    "# First GET to next_cursor and results\n",
    "response = rq.get(url=url_cursor)\n",
    "result = response.json()\n",
    "cursor = result['meta']['next_cursor']\n",
    "data = result['results']"
   ]
  },
  {
   "cell_type": "code",
   "execution_count": null,
   "metadata": {},
   "outputs": [],
   "source": [
    "total = result['meta']['count']\n",
    "per_page = 200\n",
    "num_cursor = ceil(total/per_page)\n",
    "# New URL to loop\n",
    "url = 'https://api.openalex.org/works?mailto=luanft9@gmail.com&per-page=200&filter=title_and_abstract.search:\"electronic tongue\"'"
   ]
  },
  {
   "cell_type": "code",
   "execution_count": null,
   "metadata": {},
   "outputs": [],
   "source": [
    "# Next request\n",
    "print(\"Requesting data:\")\n",
    "for n_cursor in tqdm(range(num_cursor)):\n",
    "    # Making the url with the parameters and next_cursor\n",
    "    url_cursor = url + f'&cursor={cursor}'\n",
    "\n",
    "    # Next GET to next_cursor and results\n",
    "    response = rq.get(url=url_cursor)\n",
    "    result = response.json()\n",
    "    cursor = result['meta']['next_cursor']\n",
    "    data += result['results']\n",
    "print(\"Request Complete\")"
   ]
  },
  {
   "cell_type": "code",
   "execution_count": null,
   "metadata": {},
   "outputs": [],
   "source": [
    "# Treat abstract\n",
    "def abstract(abstract):\n",
    "    try:\n",
    "        # Extract values\n",
    "        all_values = [values for list_ in abstract.values() for values in list_]\n",
    "\n",
    "        # Find max value\n",
    "        max_value = max(all_values)\n",
    "\n",
    "        list_ = [None] * (max_value + 1)\n",
    "\n",
    "        for key, values in abstract.items():\n",
    "            for v in values:\n",
    "                list_[v] = key\n",
    "\n",
    "        abstract = \" \".join(list_)\n",
    "\n",
    "        return abstract\n",
    "    except:\n",
    "        return ''\n",
    "    \n",
    "# Treat titles\n",
    "def title(title):\n",
    "    if title == None:\n",
    "        return 'No title'\n",
    "    else:\n",
    "        return title"
   ]
  },
  {
   "cell_type": "code",
   "execution_count": null,
   "metadata": {},
   "outputs": [],
   "source": [
    "names = []\n",
    "titles = []\n",
    "absts = []\n",
    "urefs = []\n",
    "\n",
    "for i in data:\n",
    "    uid = i['id']\n",
    "    title = i['title']\n",
    "    abst = i['abstract_inverted_index']\n",
    "    # refs = wos.utilities.getReferences(entry)\n",
    "    ud_refs = i['referenced_works']\n",
    "\n",
    "    names.append(uid)\n",
    "    titles.append(title(title))\n",
    "    absts.append(abstract(abst))\n",
    "    urefs.append(ud_refs)"
   ]
  },
  {
   "cell_type": "code",
   "execution_count": null,
   "metadata": {},
   "outputs": [],
   "source": [
    "edges = []\n",
    "names_set = set(names)\n",
    "for uid, ud_refs in zip(names, urefs):\n",
    "    for p in ud_refs:\n",
    "        if p in names_set:\n",
    "            pair = (uid, p)\n",
    "            edges.append(pair)"
   ]
  },
  {
   "cell_type": "code",
   "execution_count": null,
   "metadata": {},
   "outputs": [],
   "source": [
    "net = igraph.Graph()\n",
    "net.add_vertices(len(names))\n",
    "net.vs['name'] = names\n",
    "net.vs['title'] = titles\n",
    "net.vs['abstract'] = absts\n",
    "net.add_edges(edges)\n",
    "\n",
    "# Saving network\n",
    "xnet.igraph2xnet(g=net, fileName='net_electronic_tongue.xnet')"
   ]
  }
 ],
 "metadata": {
  "language_info": {
   "name": "python"
  }
 },
 "nbformat": 4,
 "nbformat_minor": 2
}
